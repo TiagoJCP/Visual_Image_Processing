{
 "cells": [
  {
   "cell_type": "markdown",
   "metadata": {},
   "source": [
    "# Python\n",
    "\n",
    "### Python Introduction - Variables, Data Types, and Operators"
   ]
  },
  {
   "cell_type": "code",
   "execution_count": null,
   "metadata": {},
   "outputs": [],
   "source": [
    "# criar uma variável \n",
    "\n",
    "name = \"Mário\"          # string\n",
    "age = 25                # int\n",
    "temperature = 19.5      # float\n",
    "is_valid = True         # bool\n",
    "\n",
    "# visualizar o conteúdo da variável \"age\"\n",
    "print(age)\n",
    "\n",
    "# visualizar o conteúdo da variável \"name\"\n",
    "print(name)\n",
    "\n",
    "# visualizar o conteúdo da variável \"temperature\"\n",
    "print(temperature)\n",
    "\n",
    "# visualizar o conteúdo da variável \"is_valid\"\n",
    "print(is_valid)"
   ]
  },
  {
   "cell_type": "markdown",
   "metadata": {},
   "source": [
    "#### Mas afinal como é que podes saber qual o tipo de cada variável?"
   ]
  },
  {
   "cell_type": "code",
   "execution_count": null,
   "metadata": {},
   "outputs": [],
   "source": [
    "print(type(age))\n",
    "\n",
    "print(type(name))\n",
    "\n",
    "print(type(temperature))\n",
    "\n",
    "print(type(is_valid))"
   ]
  },
  {
   "cell_type": "markdown",
   "metadata": {},
   "source": [
    "#### Agora vamos imaginar que pretendemos receber uma variável, mas verificar que é do tipo string? Como podemos fazer?"
   ]
  },
  {
   "cell_type": "code",
   "execution_count": null,
   "metadata": {},
   "outputs": [],
   "source": [
    "if type(name) == str:\n",
    "    print(\"É string!\")\n",
    "else:\n",
    "    print(\"Não é string!\")"
   ]
  },
  {
   "cell_type": "code",
   "execution_count": null,
   "metadata": {},
   "outputs": [],
   "source": [
    "if isinstance(name,str):\n",
    "    print(\"É string!\")\n",
    "else:\n",
    "    print(\"Não é string!\")    "
   ]
  },
  {
   "cell_type": "markdown",
   "metadata": {},
   "source": [
    "#### Sabes o que são variáveis \"multi-line\"?"
   ]
  },
  {
   "cell_type": "code",
   "execution_count": null,
   "metadata": {},
   "outputs": [],
   "source": [
    "variavel = \"\"\" Isto é uma \n",
    "variável multi-line \"\"\"\n",
    "\n",
    "print(variavel)"
   ]
  },
  {
   "cell_type": "markdown",
   "metadata": {},
   "source": [
    "#### Considera um retângulo com um comprimento de 20 e uma largura de 30. Escreve um programa que imprima o comprimento, a largura e a área do retângulo."
   ]
  },
  {
   "cell_type": "code",
   "execution_count": null,
   "metadata": {},
   "outputs": [],
   "source": [
    "comprimento = 20\n",
    "largura = 30\n",
    "\n",
    "area = comprimento * largura\n",
    "\n",
    "print(comprimento)\n",
    "print(largura)\n",
    "print(area)"
   ]
  },
  {
   "cell_type": "markdown",
   "metadata": {},
   "source": [
    "#### Verifica se um determinado número é par ou ímpar e imprime o resultado.\n",
    "- Consegues otimizar o código para que o resultado seja impresso numa única linha? "
   ]
  },
  {
   "cell_type": "code",
   "execution_count": null,
   "metadata": {},
   "outputs": [],
   "source": [
    "# primeira solução\n",
    "\n",
    "number = 10\n",
    "\n",
    "if number % 2 == 0:\n",
    "    print(\"Par\")\n",
    "else:\n",
    "    print(\"Ímpar\")"
   ]
  },
  {
   "cell_type": "code",
   "execution_count": null,
   "metadata": {},
   "outputs": [],
   "source": [
    "# segunda solução\n",
    "\n",
    "print(\"par\" if number % 2 == 0 else \"Ímpar\")"
   ]
  },
  {
   "cell_type": "markdown",
   "metadata": {},
   "source": [
    "#### Imagina que tens duas variáveis do tipo string e queres garantir que ambas têm os seus caracteres em minúsculas. \n",
    "- Como farias isso?\n",
    "- Como juntar as duas variáveis numa única string?\n",
    "- Imprime e verifica o resultado."
   ]
  },
  {
   "cell_type": "code",
   "execution_count": null,
   "metadata": {},
   "outputs": [],
   "source": [
    "sentence1 = \"Isto é UM Exemplo \"\n",
    "sentence2 = \"de MANIPULAÇÃO de variáveis.\"\n",
    "\n",
    "resposta = sentence1.upper() + sentence2.lower()"
   ]
  },
  {
   "cell_type": "markdown",
   "metadata": {},
   "source": [
    "#### Vamos agora considerar uma nova string, como contamos a quantidade de caracteres?\n",
    "- Começa com uma abordagem tradicional, podes somar todos os caracteres de uma string utilizando um ciclo."
   ]
  },
  {
   "cell_type": "code",
   "execution_count": null,
   "metadata": {},
   "outputs": [],
   "source": [
    "python_string = 'Computer Vision é uma tecnologia inovadora e poderosa.'\n",
    "\n",
    "resposta = 0\n",
    "# resposta = sum(1 for _ in python_string)\n",
    "\n",
    "resposta = 0\n",
    "\n",
    "for char in python_string:\n",
    "    resposta += 1\n",
    "\n",
    "print(resposta)"
   ]
  },
  {
   "cell_type": "markdown",
   "metadata": {},
   "source": [
    "- Será que é possível utilizar uma funcionalidade em python que simplifique o código anterior?"
   ]
  },
  {
   "cell_type": "code",
   "execution_count": null,
   "metadata": {},
   "outputs": [],
   "source": [
    "python_string = 'Computer Vision é uma tecnolgia inovadora e poderosa.'\n",
    "\n",
    "print(len(python_string))"
   ]
  },
  {
   "cell_type": "markdown",
   "metadata": {},
   "source": [
    "#### Como conseguimos manipular os caracteres de uma string? String slicing ***[start, stop, step]***\n",
    "- Realiza um print apenas dos últimos 16 caracteres, sabes como fazer?"
   ]
  },
  {
   "cell_type": "code",
   "execution_count": null,
   "metadata": {},
   "outputs": [],
   "source": [
    "print(python_string[:16])"
   ]
  },
  {
   "cell_type": "markdown",
   "metadata": {},
   "source": [
    "## Listas\n",
    "\n",
    "#### Sabias que podes ter uma variável com múltiplas variáveis no seu interior? Sim! Chamam-se listas e são muito úteis. \n",
    "- Cria uma lista com 5 elementos e imprime a lista.\n",
    "- Adiciona um elemento à lista e imprime a lista.\n",
    "- Remove um elemento da lista e imprime a lista."
   ]
  },
  {
   "cell_type": "code",
   "execution_count": null,
   "metadata": {},
   "outputs": [],
   "source": [
    "# primeira solução\n",
    "my_list = [1, 2, 3, 4, 5]\n",
    "\n",
    "print(my_list)"
   ]
  },
  {
   "cell_type": "code",
   "execution_count": null,
   "metadata": {},
   "outputs": [],
   "source": [
    "# segunda solução\n",
    "\n",
    "my_list = [i for i in range(1, 6)]\n",
    "\n",
    "print(my_list)"
   ]
  },
  {
   "cell_type": "markdown",
   "metadata": {},
   "source": [
    "#### Cria uma lista de números inteiros começando no 1 e terminando no 200, de 4 em 4 e sem nenhum múltiplo de 10.\n",
    "- % dá muito jeito, sabes como utilizá-lo?\n",
    "- Consegues utilizar apenas uma linha para este exercício?\n",
    "- Imprime a lista."
   ]
  },
  {
   "cell_type": "code",
   "execution_count": null,
   "metadata": {},
   "outputs": [],
   "source": [
    "# primeira solução\n",
    "lista_final = []\n",
    "for i in range(1,201,4):\n",
    "    if i % 10 != 0:\n",
    "        lista_final.append(i)\n",
    "\n",
    "print(lista_final)"
   ]
  },
  {
   "cell_type": "code",
   "execution_count": null,
   "metadata": {},
   "outputs": [],
   "source": [
    "# segunda solução\n",
    "lista_final = [i for i in range(1,201,4) if i % 10 != 0]\n",
    "\n",
    "print(lista_final)"
   ]
  },
  {
   "cell_type": "markdown",
   "metadata": {},
   "source": [
    "#### Agora considerando uma string que contém uma frase, como podes contar todos os caracteres \"a\"?\n",
    "- Considera a frase \"O RATO roeu a rolha da garrafa do rei da Rússia.\"\n",
    "- Deves considerar qualquer tipo de capitalização.\n",
    "- Imprime a lista e o número de caracteres \"a\"."
   ]
  },
  {
   "cell_type": "code",
   "execution_count": null,
   "metadata": {},
   "outputs": [],
   "source": [
    "frase = \"O RATO roeu a rolha da garrafa do rei da Rússia\"\n",
    "resposta = []\n",
    "\n",
    "resposta = frase.lower().count('a')\n",
    "\n",
    "print(frase.lower())\n",
    "print(resposta)"
   ]
  },
  {
   "cell_type": "markdown",
   "metadata": {},
   "source": [
    "#### Considerando a string anterior, como podes dividir a frase em palavras numa lista?\n",
    "- Pesquisa sobre o método split().\n",
    "- Imprime a lista."
   ]
  },
  {
   "cell_type": "code",
   "execution_count": null,
   "metadata": {},
   "outputs": [],
   "source": [
    "frase = \"O RATO roeu a rolha da garrafa do rei da Rússia\"\n",
    "\n",
    "resposta = frase.split()\n",
    "\n",
    "print(resposta)"
   ]
  }
 ],
 "metadata": {
  "kernelspec": {
   "display_name": "cv_python",
   "language": "python",
   "name": "python3"
  },
  "language_info": {
   "codemirror_mode": {
    "name": "ipython",
    "version": 3
   },
   "file_extension": ".py",
   "mimetype": "text/x-python",
   "name": "python",
   "nbconvert_exporter": "python",
   "pygments_lexer": "ipython3",
   "version": "3.12.2"
  }
 },
 "nbformat": 4,
 "nbformat_minor": 2
}
