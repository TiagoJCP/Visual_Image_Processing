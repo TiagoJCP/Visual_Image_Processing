{
 "cells": [
  {
   "cell_type": "markdown",
   "metadata": {},
   "source": [
    "# Python\n",
    "\n",
    "### Python Introduction - Lists, Tuples and Dictionaries"
   ]
  },
  {
   "cell_type": "markdown",
   "metadata": {},
   "source": [
    "## Listas\n",
    "\n",
    "#### Sabias que podes ter uma variável com múltiplas variáveis no seu interior? Sim! Chamam-se listas e são muito úteis. \n",
    "- Cria uma lista com 5 elementos e imprime a lista.\n",
    "- Adiciona um elemento à lista e imprime a lista.\n",
    "- Remove um elemento da lista e imprime a lista."
   ]
  },
  {
   "cell_type": "code",
   "execution_count": null,
   "metadata": {},
   "outputs": [],
   "source": [
    "# primeira solução\n",
    "my_list = [1, 2, 3, 4, 5]\n",
    "\n",
    "print(my_list)"
   ]
  },
  {
   "cell_type": "code",
   "execution_count": null,
   "metadata": {},
   "outputs": [],
   "source": [
    "# segunda solução\n",
    "\n",
    "my_list = [i for i in range(1, 6)]\n",
    "\n",
    "print(my_list)"
   ]
  },
  {
   "cell_type": "markdown",
   "metadata": {},
   "source": [
    "#### Cria uma lista de números inteiros começando no 1 e terminando no 200, de 4 em 4 e sem nenhum múltiplo de 10.\n",
    "- % dá muito jeito, sabes como utilizá-lo?\n",
    "- Consegues utilizar apenas uma linha para este exercício?\n",
    "- Imprime a lista."
   ]
  },
  {
   "cell_type": "code",
   "execution_count": null,
   "metadata": {},
   "outputs": [],
   "source": [
    "# primeira solução\n",
    "lista_final = []\n",
    "for i in range(1,201,4):\n",
    "    if i % 10 != 0:\n",
    "        lista_final.append(i)\n",
    "\n",
    "print(lista_final)"
   ]
  },
  {
   "cell_type": "code",
   "execution_count": null,
   "metadata": {},
   "outputs": [],
   "source": [
    "# segunda solução\n",
    "lista_final = [i for i in range(1,201,4) if i % 10 != 0]\n",
    "\n",
    "print(lista_final)"
   ]
  },
  {
   "cell_type": "markdown",
   "metadata": {},
   "source": [
    "#### Agora considerando uma string que contém uma frase, como podes contar todos os caracteres \"a\"?\n",
    "- Considera a frase \"O RATO roeu a rolha da garrafa do rei da Rússia.\"\n",
    "- Deves considerar qualquer tipo de capitalização.\n",
    "- Imprime a lista e o número de caracteres \"a\"."
   ]
  },
  {
   "cell_type": "code",
   "execution_count": null,
   "metadata": {},
   "outputs": [],
   "source": [
    "frase = \"O RATO roeu a rolha da garrafa do rei da Rússia\"\n",
    "resposta = []\n",
    "\n",
    "resposta = frase.lower().count('garrafa')\n",
    "\n",
    "print(frase.lower())\n",
    "print(resposta)"
   ]
  },
  {
   "cell_type": "markdown",
   "metadata": {},
   "source": [
    "#### Considerando a string anterior, como podes dividir a frase em palavras numa lista?\n",
    "- Pesquisa sobre o método split().\n",
    "- Imprime a lista."
   ]
  },
  {
   "cell_type": "code",
   "execution_count": null,
   "metadata": {},
   "outputs": [],
   "source": [
    "frase = \"O RATO roeu a rolha da garrafa do rei da Rússia\"\n",
    "\n",
    "resposta = frase.split()\n",
    "\n",
    "print(resposta)"
   ]
  },
  {
   "cell_type": "markdown",
   "metadata": {},
   "source": [
    "## Dicionários\n",
    "\n",
    "#### Sabias que podes ter uma variável com múltiplas variáveis no seu interior? Sim! Chamam-se dicionários e são muito úteis.\n",
    "\n",
    "- Cria um dicionário com 5 elementos e imprime o dicionário."
   ]
  },
  {
   "cell_type": "code",
   "execution_count": null,
   "metadata": {},
   "outputs": [],
   "source": [
    "dict = {'programming_1': 'Python', 'programming_2': 'R', 'programming_3': 'Java'}\n",
    "\n",
    "print(dict)"
   ]
  },
  {
   "cell_type": "markdown",
   "metadata": {},
   "source": [
    "- Adiciona um elemento ao dicionário e imprime o dicionário.\n"
   ]
  },
  {
   "cell_type": "code",
   "execution_count": null,
   "metadata": {},
   "outputs": [],
   "source": [
    "dict['programming_4'] = 'C++'\n",
    "\n",
    "print(dict)"
   ]
  },
  {
   "cell_type": "markdown",
   "metadata": {},
   "source": [
    "- Remove um elemento do dicionário e imprime o dicionário."
   ]
  },
  {
   "cell_type": "code",
   "execution_count": null,
   "metadata": {},
   "outputs": [],
   "source": [
    "dict.pop('programming_1')\n",
    "\n",
    "print(dict)"
   ]
  },
  {
   "cell_type": "markdown",
   "metadata": {},
   "source": [
    "#### Boa! Agora que já sabes como criar e manipular dicionários, vamos criar um dicionário com 5 elementos, onde as chaves são os números de 1 a 5 e os valores são os números de 1 a 5 ao quadrado."
   ]
  },
  {
   "cell_type": "code",
   "execution_count": null,
   "metadata": {},
   "outputs": [],
   "source": [
    "# primeira solução\n",
    "my_dict = {}\n",
    "\n",
    "for i in range(1, 6):\n",
    "    my_dict[i] = i**2\n",
    "\n",
    "print(my_dict)"
   ]
  },
  {
   "cell_type": "code",
   "execution_count": null,
   "metadata": {},
   "outputs": [],
   "source": [
    "# segunda solução\n",
    "my_dict = {i: i**2 for i in range(1, 6)}"
   ]
  },
  {
   "cell_type": "markdown",
   "metadata": {},
   "source": [
    "#### Vamos agora aumentar a complexidade. Considerando a frase \"O RATO roeu a rolha da garrafa do rei da Rússia.\", cria um dicionário onde as chaves são as palavras da frase e os valores são o número de caracteres da palavra.\n",
    "Dicas:\n",
    "- Utiliza o método split() para dividir a frase em palavras.\n",
    "- Utiliza o método len() para contar o número de caracteres de uma palavra.\n",
    "- Imprime o dicionário."
   ]
  },
  {
   "cell_type": "code",
   "execution_count": null,
   "metadata": {},
   "outputs": [],
   "source": [
    "# primeira solução\n",
    "my_string = \"O RATO roeu a rolha da garrafa do rei da Rússia\"\n",
    "\n",
    "my_dict = {}\n",
    "\n",
    "for word in my_string.split():\n",
    "    my_dict[word] = len(word)\n",
    "\n",
    "print(my_dict)"
   ]
  },
  {
   "cell_type": "markdown",
   "metadata": {},
   "source": [
    "#### Como resolver este problema?\n",
    "- Aplica o index a cada uma das palavras"
   ]
  },
  {
   "cell_type": "code",
   "execution_count": null,
   "metadata": {},
   "outputs": [],
   "source": [
    "my_string = \"O RATO roeu a rolha da garrafa do rei da Rússia\"\n",
    "\n",
    "my_new_dict = {}\n",
    "\n",
    "for index, word in enumerate(my_string.split()):\n",
    "    my_new_dict[f\"{index} - {word}\"] = len(word)\n",
    "\n",
    "print(my_new_dict)"
   ]
  },
  {
   "cell_type": "markdown",
   "metadata": {},
   "source": [
    "#### Excelente! És capaz de utilizar apenas 1 linha para este exercício?"
   ]
  },
  {
   "cell_type": "code",
   "execution_count": null,
   "metadata": {},
   "outputs": [],
   "source": [
    "# segunda solução\n",
    "\n",
    "my_string = \"O RATO roeu a rolha da garrafa do rei da Rússia\"\n",
    "\n",
    "my_new_dict = {f\"{index} - {word}\": len(word) for index, word in enumerate(my_string.split())}\n",
    "\n",
    "print(my_new_dict)"
   ]
  },
  {
   "cell_type": "markdown",
   "metadata": {},
   "source": [
    "## Tuple\n",
    "\n",
    "#### Mas afinal o que é um Tuple? "
   ]
  },
  {
   "cell_type": "code",
   "execution_count": null,
   "metadata": {},
   "outputs": [],
   "source": [
    "my_tuple = (1, 2, 3, 4, 5)\n",
    "\n",
    "print(my_tuple)"
   ]
  },
  {
   "cell_type": "code",
   "execution_count": null,
   "metadata": {},
   "outputs": [],
   "source": [
    "my_tuple = tuple(i for i in range(1, 6))\n",
    "\n",
    "print(my_tuple)"
   ]
  },
  {
   "cell_type": "markdown",
   "metadata": {},
   "source": [
    "#### Qual é a diferença entre uma lista e um tuple?\n",
    " Um tuple é uma coleção de objetos que não pode ser alterada (**imutável**), enquanto que uma lista pode ser alterada (**mutável**).\n",
    "\n",
    "- Cria um tuple com 3 elementos (nome, idade, disciplinas), em que o 3 é uma lista de 3 disciplinas.\n",
    "- Cria uma lista com 3 elementos (nome, idade, disciplinas), em que o 3 é um tuple de 3 disciplinas.\n",
    "- Imprime o tuple\n",
    "- Altera uma idade na lista e adiciona uma disciplina\n",
    "- Imprime a lista"
   ]
  },
  {
   "cell_type": "code",
   "execution_count": null,
   "metadata": {},
   "outputs": [],
   "source": [
    "student1_tuple = ('Alice', 20, ['Math', 'Physics', 'Chemistry'])\n",
    "student2_tuple = ('Bob', 22, ['History', 'English'])\n",
    "\n",
    "student1_list = ['Alice', 20, ['Math', 'Physics', 'Chemistry']]\n",
    "student2_list = ['Bob', 22, ['History', 'English']]\n",
    "\n",
    "# Tuple example\n",
    "name, age, subjects = student1_tuple\n",
    "print(f\"Tuple: Name = {name}, Age = {age}, Subjects = {subjects}\")\n",
    "\n",
    "# List example\n",
    "student1_list[1] = 21  # Change age\n",
    "student1_list[2].append('Biology')  # Add a subject\n",
    "print(f\"List: Name = {student1_list[0]}, Age = {student1_list[1]}, Subjects = {student1_list[2]}\")\n"
   ]
  }
 ],
 "metadata": {
  "kernelspec": {
   "display_name": "cv_python",
   "language": "python",
   "name": "python3"
  },
  "language_info": {
   "codemirror_mode": {
    "name": "ipython",
    "version": 3
   },
   "file_extension": ".py",
   "mimetype": "text/x-python",
   "name": "python",
   "nbconvert_exporter": "python",
   "pygments_lexer": "ipython3",
   "version": "3.12.2"
  }
 },
 "nbformat": 4,
 "nbformat_minor": 2
}
