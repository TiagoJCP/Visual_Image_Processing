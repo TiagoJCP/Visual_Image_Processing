{
 "cells": [
  {
   "cell_type": "markdown",
   "metadata": {},
   "source": [
    "# **Avaliacao de Robótica - Avançado 2024 (Recuperação)**\n",
    "## CINEL - CET.ARCI.N.P.23\n",
    "\n",
    "#### A realização da componente prática implica a interpretação de problemas de processamento de imagem reais. Todas as respostas devem ser dadas nas respetivas células.\n",
    "\n",
    "- Alterar o nome do Notebook para o respetivo **nome** e **número formando**.\n",
    "\n",
    "- No final **devem guardar** o vosso Notebook com o respetivo nome e resultados e enviar para o email **tiago.padilha@formadores.cinel.pt**.\n",
    "\n",
    "### **Boa Sorte!**\n",
    "\n"
   ]
  },
  {
   "cell_type": "markdown",
   "metadata": {},
   "source": [
    "#### **Preencha os seus dados de formando:**"
   ]
  },
  {
   "cell_type": "code",
   "execution_count": null,
   "metadata": {},
   "outputs": [],
   "source": [
    "#### **Preencha os seus dados de formando:**\n",
    "name = \"nome\"                 # Preencher com nome formando\n",
    "student_number = \"numero\"     # Preencher com número formando\n",
    "\n",
    "print(\"Nome:\", name)\n",
    "print(\"Número Formando:\", student_number)"
   ]
  },
  {
   "cell_type": "markdown",
   "metadata": {},
   "source": [
    "#### **Bibliotecas necessárias:**"
   ]
  },
  {
   "cell_type": "code",
   "execution_count": null,
   "metadata": {},
   "outputs": [],
   "source": [
    "# Bibliotecas:\n",
    "import cv2\n",
    "import numpy as np\n",
    "import matplotlib.pyplot as plt\n",
    "import os"
   ]
  },
  {
   "cell_type": "markdown",
   "metadata": {},
   "source": [
    "#### **Funções Importantes**"
   ]
  },
  {
   "cell_type": "code",
   "execution_count": null,
   "metadata": {},
   "outputs": [],
   "source": [
    "def show_1figure(img1, title1=''):\n",
    "  \n",
    "  fig, axes = plt.subplots(1, 1, figsize=(5, 5))\n",
    "\n",
    "  axes[0].imshow(cv2.cvtColor(img1, cv2.COLOR_BGR2RGB))\n",
    "  axes[0].set_title(title1)\n",
    "  axes[0].axis('off')\n",
    "\n",
    "\n",
    "def show_2figures(img1, img2, title1='', title2=''):\n",
    "  \n",
    "  fig, axes = plt.subplots(1, 2, figsize=(10, 5))\n",
    "\n",
    "  axes[0].imshow(cv2.cvtColor(img1, cv2.COLOR_BGR2RGB))\n",
    "  axes[0].set_title(title1)\n",
    "  axes[0].axis('off')\n",
    "\n",
    "  axes[1].imshow(cv2.cvtColor(img2, cv2.COLOR_BGR2RGB))\n",
    "  axes[1].set_title(title2)\n",
    "  axes[1].axis('off')\n",
    "\n",
    "  plt.subplots_adjust(wspace=0.1)\n",
    "\n",
    "\n",
    "def show_3figures(img1, img2, img3, title1='', title2='', title3=''):\n",
    "\n",
    "  fig, axes = plt.subplots(1, 3, figsize=(16, 12))\n",
    "\n",
    "  axes[0].imshow(cv2.cvtColor(img1, cv2.COLOR_BGR2RGB))\n",
    "  axes[0].set_title(title1)\n",
    "  axes[0].axis('off')\n",
    "\n",
    "  axes[1].imshow(cv2.cvtColor(img2, cv2.COLOR_BGR2RGB))\n",
    "  axes[1].set_title(title2)\n",
    "  axes[1].axis('off')\n",
    "\n",
    "  axes[2].imshow(cv2.cvtColor(img3, cv2.COLOR_BGR2RGB))\n",
    "  axes[2].set_title(title3)\n",
    "  axes[2].axis('off')\n",
    "\n",
    "  plt.subplots_adjust(wspace=0.1)\n",
    "\n",
    "\n",
    "def read_images_from_folder(folder_path):\n",
    "    files = os.listdir(folder_path)\n",
    "    image_files = [f for f in files if f.endswith('.png')]\n",
    "    \n",
    "    images = []\n",
    "    image_names = []\n",
    "    \n",
    "    for image_file in image_files:\n",
    "        image_path = os.path.join(folder_path, image_file)\n",
    "        image = cv2.imread(image_path)\n",
    "        if image is not None:\n",
    "            images.append(image)\n",
    "            image_names.append(image_file)\n",
    "        else:\n",
    "            print(f\"Failed to load image: {image_path}\")\n",
    "    \n",
    "    return images, image_names\n"
   ]
  },
  {
   "cell_type": "markdown",
   "metadata": {},
   "source": [
    "---"
   ]
  },
  {
   "cell_type": "markdown",
   "metadata": {},
   "source": [
    "## Pretende-se implementar um sistema de visão artificial para uma aplicação robótica, que permita identificar todos os objetos na imagem para a respetiva manipulação."
   ]
  },
  {
   "cell_type": "markdown",
   "metadata": {},
   "source": [
    "#### **Questão 1.** Considerando as imagens na pasta **evaluation**, realize a conversão das imagens para níveis de cinza e calcule o respetivo histograma (Mostrar 1 imagem níveis de cinza + Gráfico histograma).\n",
    "\n",
    "> #### Complete célula de código seguinte:"
   ]
  },
  {
   "cell_type": "code",
   "execution_count": null,
   "metadata": {},
   "outputs": [],
   "source": []
  },
  {
   "cell_type": "markdown",
   "metadata": {},
   "source": [
    "#### **Questão 2.** Considerando o histograma obtido anteriormente, aplique uma **binarização** para que seja possível visualizar os objetos presentes na imagem sem ruído. Os objetos devem estar com cor branca e o fundo com cor preta.\n",
    "\n",
    "Deve ser gerada uma imagem com 3 figuras, imagem original, imagem binarizada e imagem com binarização invertida (objetos brancos e fundo preto)\n",
    "\n",
    "> #### Complete a célula de código seguinte:"
   ]
  },
  {
   "cell_type": "code",
   "execution_count": null,
   "metadata": {},
   "outputs": [],
   "source": []
  },
  {
   "cell_type": "markdown",
   "metadata": {},
   "source": [
    "#### **Questão 3.** Considerando a imagem binarizada obtida anteriormente, realize um programa para detetar os objetos presentes na imagem `evaluation3.png` assim como a sua segmentação sobre a imagem original. O título da imagem segmentada deve conter o número de objetos detetados. Exemplo:\n",
    "\n",
    "- Parafusos: xx  (cor azul)\n",
    "\n",
    "- Chaves Fendas: xx (cor verde)\n",
    "\n",
    "- Martelo: xx (cor vermelha)\n",
    "\n",
    "- Alicate: xx (cor amarela)\n",
    "\n",
    "Deve ser gerada uma imagem com 2 figuras, imagem binarizada e imagem com segmentação dos objetos sobre a imagem original.\n",
    "\n",
    "> #### Complete a célula de código seguinte:"
   ]
  },
  {
   "cell_type": "code",
   "execution_count": null,
   "metadata": {},
   "outputs": [],
   "source": []
  },
  {
   "cell_type": "markdown",
   "metadata": {},
   "source": [
    "#### **Questão 4.** Considerando todo o código desenvolvido até à questão anterior, prepare um programa que seja capaz de processar as 10 imagens na pasta `Evaluation_Images` e apresentar os resultados obtidos num dicionário com a seguinte estrutura:\n",
    "\n",
    "```python\n",
    "{\n",
    "    'evaluation0.png': {\n",
    "        'Parafusos': xx,\n",
    "        'Chaves Fendas': xx,\n",
    "        'Martelo': xx,\n",
    "        'Alicate': xx\n",
    "    },\n",
    "    'evaluation1.png': {\n",
    "        'Parafusos': xx,\n",
    "        'Chaves Fendas': xx,\n",
    "        'Martelo': xx,\n",
    "        'Alicate': xx\n",
    "    },\n",
    "    ...\n",
    "}\n",
    "```\n",
    "\n",
    "Deve ser realizado um print do dicionário com os resultados obtidos de todas as imagens da respetiva pasta.\n",
    "\n",
    "> #### Complete a célula de código seguinte:"
   ]
  },
  {
   "cell_type": "code",
   "execution_count": null,
   "metadata": {},
   "outputs": [],
   "source": []
  }
 ],
 "metadata": {
  "kernelspec": {
   "display_name": "cv_python",
   "language": "python",
   "name": "python3"
  },
  "language_info": {
   "codemirror_mode": {
    "name": "ipython",
    "version": 3
   },
   "file_extension": ".py",
   "mimetype": "text/x-python",
   "name": "python",
   "nbconvert_exporter": "python",
   "pygments_lexer": "ipython3",
   "version": "3.12.2"
  }
 },
 "nbformat": 4,
 "nbformat_minor": 2
}
