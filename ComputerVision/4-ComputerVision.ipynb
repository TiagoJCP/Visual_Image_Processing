{
 "cells": [
  {
   "cell_type": "markdown",
   "metadata": {},
   "source": [
    "\n",
    "\n",
    "![Intro Image](Images/ai_cv_intro.png)\n",
    "# **Visão Artificial** - Sistemas de Visão e Perceção\n",
    "# <span style=\"background-image: linear-gradient(to right, #ff0080, #8000ff); -webkit-background-clip: text; -webkit-text-fill-color: transparent;\">Tiago Padilha</span>\n",
    "\n",
    "\n",
    "### **Computer Vision** é um domínio da **inteligência artificial** que permite a computadores **interpretar e tomar decisões** com base em **dados visuais**, mesmo em **ambientes dinâmicos**.  🚀\n",
    "\n",
    "### Esta capacidade permite revolucionar as indústrias e melhorar a interação humana com a tecnologia. 🤖👨‍💻\n",
    "\n"
   ]
  },
  {
   "cell_type": "markdown",
   "metadata": {},
   "source": [
    "## **4 - Processamento e Deteção**\n",
    "\n",
    "- Após a utilização de técnicas de pré-processamento, passamos para uma fase de processamento de uma imagem com a utilização de operações morfológicas, filtros e técnicas de deteção de objetos."
   ]
  },
  {
   "cell_type": "markdown",
   "metadata": {},
   "source": [
    "---"
   ]
  },
  {
   "cell_type": "markdown",
   "metadata": {},
   "source": [
    "#### Ler uma imagem \n",
    "\n",
    "Realiza a leitura simples de uma imagem."
   ]
  },
  {
   "cell_type": "code",
   "execution_count": null,
   "metadata": {},
   "outputs": [],
   "source": [
    "import cv2\n",
    "import matplotlib.pyplot as plt\n",
    "\n",
    "image = cv2.imread(r\"Images\\Lenna.png\")\n",
    "gray_image = cv2.cvtColor(image, cv2.COLOR_BGR2GRAY)\n",
    "\n",
    "cv2.imshow('Image of Lenna', gray_image)\n",
    "cv2.waitKey(0)\n",
    "cv2.destroyAllWindows()"
   ]
  },
  {
   "cell_type": "markdown",
   "metadata": {},
   "source": [
    "#### Histograma"
   ]
  },
  {
   "cell_type": "code",
   "execution_count": null,
   "metadata": {},
   "outputs": [],
   "source": [
    "def histogram_gray(img_hist_gray):\n",
    "\n",
    "  gray_hist = cv2.calcHist([img_hist_gray], [0], None, [256], [0,256])\n",
    "\n",
    "  plt.figure()\n",
    "  plt.title('Grayscale Histogram')\n",
    "  plt.xlabel('Pixel Value')\n",
    "  plt.ylabel('Qt. of pixels')\n",
    "  plt.plot(gray_hist)\n",
    "  plt.xlim([0,256])\n",
    "  plt.show()\n",
    "  "
   ]
  },
  {
   "cell_type": "code",
   "execution_count": null,
   "metadata": {},
   "outputs": [],
   "source": [
    "import cv2\n",
    "import matplotlib.pyplot as plt\n",
    "import numpy as np\n",
    "\n",
    "image = cv2.imread(r\"Images\\Lenna.png\")\n",
    "gray_image = cv2.cvtColor(image, cv2.COLOR_BGR2GRAY)\n",
    "\n",
    "\n",
    "# Ler o histograma da imagem em escala de cinza\n",
    "\n",
    "\n",
    "cv2.imshow('Image of a Lenna Histogram', gray_image)\n",
    "cv2.waitKey(0)\n",
    "cv2.destroyAllWindows()"
   ]
  },
  {
   "cell_type": "markdown",
   "metadata": {},
   "source": [
    "#### Funções para visualização de 2 ou 3 imagens"
   ]
  },
  {
   "cell_type": "code",
   "execution_count": null,
   "metadata": {},
   "outputs": [],
   "source": [
    "import matplotlib.pyplot as plt\n",
    "import cv2\n",
    "\n",
    "def show_2figures(img1, img2, title1='', title2=''):\n",
    "  # title must be = 'Some title'\n",
    "\n",
    "  # Create a figure and axes\n",
    "  _ , axes = plt.subplots(1, 2, figsize=(10, 5))\n",
    "\n",
    "  # Display the images\n",
    "  axes[0].imshow(cv2.cvtColor(img1, cv2.COLOR_BGR2RGB))\n",
    "  axes[0].set_title(title1)\n",
    "  axes[0].axis('off')\n",
    "\n",
    "  axes[1].imshow(cv2.cvtColor(img2, cv2.COLOR_BGR2RGB))\n",
    "  axes[1].set_title(title2)\n",
    "  axes[1].axis('off')\n",
    "\n",
    "  # Adjust the spacing between subplots\n",
    "  plt.subplots_adjust(wspace=0.1)\n",
    "\n",
    "\n",
    "def show_3figures(img1, img2, img3, title1='', title2='', title3=''):\n",
    "  # title must be = 'Some title'\n",
    "\n",
    "  # Create a figure and axes\n",
    "  _ , axes = plt.subplots(1, 3, figsize=(16, 12))\n",
    "\n",
    "  # Display the images\n",
    "  axes[0].imshow(cv2.cvtColor(img1, cv2.COLOR_BGR2RGB))\n",
    "  axes[0].set_title(title1)\n",
    "  axes[0].axis('off')\n",
    "\n",
    "  axes[1].imshow(cv2.cvtColor(img2, cv2.COLOR_BGR2RGB))\n",
    "  axes[1].set_title(title2)\n",
    "  axes[1].axis('off')\n",
    "\n",
    "  axes[2].imshow(cv2.cvtColor(img3, cv2.COLOR_BGR2RGB))\n",
    "  axes[2].set_title(title3)\n",
    "  axes[2].axis('off')\n",
    "\n",
    "  # Adjust the spacing between subplots\n",
    "  plt.subplots_adjust(wspace=0.1)"
   ]
  },
  {
   "cell_type": "markdown",
   "metadata": {},
   "source": [
    "## **Deteção de Arestas**"
   ]
  },
  {
   "cell_type": "markdown",
   "metadata": {},
   "source": [
    "#### Deteção de Arestas com operador de **Sobel**"
   ]
  },
  {
   "cell_type": "code",
   "execution_count": null,
   "metadata": {},
   "outputs": [],
   "source": [
    "import cv2\n",
    "import numpy as np\n",
    "\n",
    "image = cv2.imread(r\"Images\\Lenna.png\")\n",
    "gray_image = cv2.cvtColor(image, cv2.COLOR_BGR2GRAY)\n",
    "\n",
    "# Sobel Operator\n",
    "# ..."
   ]
  },
  {
   "cell_type": "markdown",
   "metadata": {},
   "source": [
    "#### Deteção de Arestas com operador de **Prewitt**"
   ]
  },
  {
   "cell_type": "code",
   "execution_count": null,
   "metadata": {},
   "outputs": [],
   "source": [
    "import cv2\n",
    "import numpy as np\n",
    "\n",
    "# Load the image\n",
    "image = cv2.imread(r\"Images\\Lenna.png\")\n",
    "gray_image = cv2.cvtColor(image, cv2.COLOR_BGR2GRAY)\n",
    "\n",
    "# Prewitt Operator\n",
    "# ..."
   ]
  },
  {
   "cell_type": "markdown",
   "metadata": {},
   "source": [
    "#### Deteção de Arestas com operador de **Canny**"
   ]
  },
  {
   "cell_type": "code",
   "execution_count": null,
   "metadata": {},
   "outputs": [],
   "source": [
    "import cv2\n",
    "import numpy as np\n",
    "\n",
    "image = cv2.imread(r\"Images\\Lenna.png\")\n",
    "gray_image = cv2.cvtColor(image, cv2.COLOR_BGR2GRAY)\n",
    "\n",
    "# Canny Operator\n",
    "# ..."
   ]
  },
  {
   "cell_type": "markdown",
   "metadata": {},
   "source": [
    "## **Dilatação e Erosão**\n",
    "\n",
    "- A dilatação é aplicada segundo o eixo x e y, no qual é possível adicionar n pixels aos pontos brancos da imagem.\n",
    "- A erosão é aplicada segundo o eixo x e y, no qual é possível remover n pixels aos pontos brancos da imagem."
   ]
  },
  {
   "cell_type": "markdown",
   "metadata": {},
   "source": [
    "#### Dilatação de uma imagem"
   ]
  },
  {
   "cell_type": "code",
   "execution_count": null,
   "metadata": {},
   "outputs": [],
   "source": [
    "import cv2\n",
    "import numpy as np\n",
    "\n",
    "# Load the image\n",
    "image = cv2.imread(r\"Images\\Lenna.png\")\n",
    "gray_image = cv2.cvtColor(image, cv2.COLOR_BGR2GRAY)\n",
    "\n",
    "# Dilate Operator\n",
    "# ..."
   ]
  },
  {
   "cell_type": "markdown",
   "metadata": {},
   "source": [
    "#### Erosão de uma imagem"
   ]
  },
  {
   "cell_type": "code",
   "execution_count": null,
   "metadata": {},
   "outputs": [],
   "source": [
    "import cv2\n",
    "import numpy as np\n",
    "\n",
    "# Load the image\n",
    "image = cv2.imread(r\"Images\\Lenna.png\")\n",
    "gray_image = cv2.cvtColor(image, cv2.COLOR_BGR2GRAY)\n",
    "\n",
    "# Erode Operator\n",
    "# ..."
   ]
  },
  {
   "cell_type": "markdown",
   "metadata": {},
   "source": [
    "#### Skeletonization"
   ]
  },
  {
   "cell_type": "code",
   "execution_count": null,
   "metadata": {},
   "outputs": [],
   "source": [
    "import cv2\n",
    "import numpy as np\n",
    "from skimage.morphology import skeletonize\n",
    "\n",
    "# Load the image\n",
    "image = cv2.imread(r\"Images\\porcas.png\")\n",
    "gray_image = cv2.cvtColor(image, cv2.COLOR_BGR2GRAY)\n",
    "\n",
    "# Skeletonize Operator\n",
    "# ..."
   ]
  },
  {
   "cell_type": "markdown",
   "metadata": {},
   "source": [
    "#### Detetar parafusos na imagem através de contornos e contar o número de parafusos"
   ]
  },
  {
   "cell_type": "code",
   "execution_count": null,
   "metadata": {},
   "outputs": [],
   "source": [
    "import cv2\n",
    "import numpy as np\n",
    "from skimage.morphology import skeletonize\n",
    "\n",
    "# Load the image\n",
    "image = cv2.imread(r\"Images\\porcas.png\")\n",
    "gray_image = cv2.cvtColor(image, cv2.COLOR_BGR2GRAY)\n",
    "\n",
    "# Detect the edges of the screws\n",
    "# ..."
   ]
  },
  {
   "cell_type": "markdown",
   "metadata": {},
   "source": [
    "#### Detetar porcas na imagem através de contornos e contar o número de porcas"
   ]
  },
  {
   "cell_type": "code",
   "execution_count": null,
   "metadata": {},
   "outputs": [],
   "source": [
    "import cv2\n",
    "import numpy as np\n",
    "from skimage.morphology import skeletonize\n",
    "\n",
    "# Load the image\n",
    "image = cv2.imread(r\"Images\\porcas.png\")\n",
    "gray_image = cv2.cvtColor(image, cv2.COLOR_BGR2GRAY)\n",
    "\n",
    "# Detect the edges of the nuts\n",
    "# ..."
   ]
  }
 ],
 "metadata": {
  "kernelspec": {
   "display_name": "cv_python",
   "language": "python",
   "name": "python3"
  },
  "language_info": {
   "codemirror_mode": {
    "name": "ipython",
    "version": 3
   },
   "file_extension": ".py",
   "mimetype": "text/x-python",
   "name": "python",
   "nbconvert_exporter": "python",
   "pygments_lexer": "ipython3",
   "version": "3.12.2"
  }
 },
 "nbformat": 4,
 "nbformat_minor": 2
}
