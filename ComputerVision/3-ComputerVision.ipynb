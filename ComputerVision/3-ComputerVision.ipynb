{
 "cells": [
  {
   "cell_type": "markdown",
   "metadata": {},
   "source": [
    "\n",
    "\n",
    "![Intro Image](Images/ai_cv_intro.png)\n",
    "# **Visão Artificial** - Sistemas de Visão e Perceção\n",
    "# <span style=\"background-image: linear-gradient(to right, #ff0080, #8000ff); -webkit-background-clip: text; -webkit-text-fill-color: transparent;\">Tiago Padilha</span>\n",
    "\n",
    "\n",
    "### **Computer Vision** é um domínio da **inteligência artificial** que permite a computadores **interpretar e tomar decisões** com base em **dados visuais**, mesmo em **ambientes dinâmicos**.  🚀\n",
    "\n",
    "### Esta capacidade permite revolucionar as indústrias e melhorar a interação humana com a tecnologia. 🤖👨‍💻\n",
    "\n"
   ]
  },
  {
   "cell_type": "markdown",
   "metadata": {},
   "source": [
    "## **3 - Pré Processamento e Segmentação**\n",
    "\n",
    "- A aquisição de uma imagem é uma das primeiras etapas a realizar, em conjunto com sucessivas técnicas de pré-processamento."
   ]
  },
  {
   "cell_type": "markdown",
   "metadata": {},
   "source": [
    "---"
   ]
  },
  {
   "cell_type": "markdown",
   "metadata": {},
   "source": [
    "#### Ler uma imagem e criar o seu histograma\n",
    "Um histograma é uma representação gráfica da distribuição de intensidades de uma imagem. É uma ferramenta útil para a análise de contraste e brilho de uma imagem."
   ]
  },
  {
   "cell_type": "code",
   "execution_count": null,
   "metadata": {},
   "outputs": [],
   "source": []
  }
 ],
 "metadata": {
  "kernelspec": {
   "display_name": "cv_python",
   "language": "python",
   "name": "python3"
  },
  "language_info": {
   "codemirror_mode": {
    "name": "ipython",
    "version": 3
   },
   "file_extension": ".py",
   "mimetype": "text/x-python",
   "name": "python",
   "nbconvert_exporter": "python",
   "pygments_lexer": "ipython3",
   "version": "3.12.2"
  }
 },
 "nbformat": 4,
 "nbformat_minor": 2
}
