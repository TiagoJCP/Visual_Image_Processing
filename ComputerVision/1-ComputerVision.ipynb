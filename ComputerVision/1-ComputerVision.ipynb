{
 "cells": [
  {
   "cell_type": "markdown",
   "metadata": {},
   "source": [
    "# **Visão Artificial** - Sistemas de Visão e Perceção\n",
    "\n",
    "![Intro Image](Images/ai_cv_intro.png)\n",
    "\n",
    "### **Computer Vision** é um domínio da **inteligência artificial** que permite a computadores **interpretar e tomar decisões** com base em **dados visuais**, mesmo em **ambientes dinâmicos**.  🚀\n",
    "\n",
    "### Esta capacidade permite revolucionar as indústrias e melhorar a interação humana com a tecnologia. 🤖👨‍💻\n",
    "\n",
    "---"
   ]
  },
  {
   "cell_type": "markdown",
   "metadata": {},
   "source": [
    "## **1 - Introdução a Processamento de Imagem**"
   ]
  },
  {
   "cell_type": "markdown",
   "metadata": {},
   "source": [
    "---"
   ]
  },
  {
   "cell_type": "markdown",
   "metadata": {},
   "source": [
    "### **Introdução ao NumPy** ⚙️🧮\n",
    "\n",
    "- NumPy é uma biblioteca Python utilizada para computação numérica. \n",
    "    - Fornece suporte para matrizes e arrays multi-dimensionais de grandes dimensões \n",
    "    - Coleção de funções matemáticas para operar nestes arrays de forma eficiente. \n",
    "\n",
    "É a base para muitas outras bibliotecas no ambiente de análise de dados Python."
   ]
  },
  {
   "cell_type": "markdown",
   "metadata": {},
   "source": [
    "#### **Arrays**"
   ]
  },
  {
   "cell_type": "code",
   "execution_count": null,
   "metadata": {},
   "outputs": [],
   "source": []
  },
  {
   "cell_type": "markdown",
   "metadata": {},
   "source": [
    "#### **Operações**"
   ]
  },
  {
   "cell_type": "code",
   "execution_count": null,
   "metadata": {},
   "outputs": [],
   "source": []
  },
  {
   "cell_type": "markdown",
   "metadata": {},
   "source": [
    "#### **Operação de Matrizes**"
   ]
  },
  {
   "cell_type": "code",
   "execution_count": null,
   "metadata": {},
   "outputs": [],
   "source": []
  },
  {
   "cell_type": "markdown",
   "metadata": {},
   "source": [
    "#### **Criação de Arrays**"
   ]
  },
  {
   "cell_type": "code",
   "execution_count": null,
   "metadata": {},
   "outputs": [],
   "source": [
    "import numpy as np\n",
    "\n",
    "# Create a 3x3 matrix of zeros\n",
    "\n",
    "\n",
    "# Create a 2x2 matrix of ones\n",
    "\n",
    "\n",
    "# Create a 4x4 matrix filled with 7\n",
    "\n",
    "\n",
    "# Create an array of evenly spaced values from 0 to 9\n",
    "\n",
    "\n",
    "# Create an array of 10 values evenly spaced between 0 and 1\n",
    "\n",
    "\n",
    "# Create a 3x3 matrix of random values between 0 and 1\n",
    "\n",
    "\n",
    "# Create a 3x3 matrix of random values from a normal distribution (mean=0, std=1)\n"
   ]
  },
  {
   "cell_type": "markdown",
   "metadata": {},
   "source": [
    "### **Introdução ao Open CV** 🔍📷👁️\n",
    "\n",
    "A OpenCV (Open Source Computer Vision Library) é uma poderosa biblioteca de funções de programação destinada principalmente à visão artificial para processamento em tempo real. É desenvolvida em C++ e optimizada para desempenho, mas também fornece ligações para Python, tornando-a acessível a um público mais vasto.\n",
    "\n",
    "![OpenCV Image](Images/opencv_logo.png)\n",
    "\n",
    "- Instalação do Open CV ```pip install opencv-python```"
   ]
  },
  {
   "cell_type": "code",
   "execution_count": 1,
   "metadata": {},
   "outputs": [],
   "source": [
    "import cv2\n",
    "\n",
    "# Load an image from file\n",
    "image = cv2.imread('Images\\\\opencv_logo.png')\n",
    "\n",
    "cv2.imshow('Image', image)\n",
    "cv2.waitKey(0)  # Wait indefinitely for a key press\n",
    "cv2.destroyAllWindows()  # Close all OpenCV windows"
   ]
  },
  {
   "cell_type": "markdown",
   "metadata": {},
   "source": [
    "---"
   ]
  },
  {
   "cell_type": "markdown",
   "metadata": {},
   "source": [
    "#### Como criar uma imagem preta com 320x320 ?"
   ]
  },
  {
   "cell_type": "code",
   "execution_count": null,
   "metadata": {},
   "outputs": [],
   "source": []
  },
  {
   "cell_type": "markdown",
   "metadata": {},
   "source": [
    "#### Como desenhar um ponto branco (1 pixel) na imagem preta?"
   ]
  },
  {
   "cell_type": "code",
   "execution_count": null,
   "metadata": {},
   "outputs": [],
   "source": []
  },
  {
   "cell_type": "markdown",
   "metadata": {},
   "source": [
    "#### Como desenhar um retângulo branco na imagem preta?"
   ]
  },
  {
   "cell_type": "code",
   "execution_count": null,
   "metadata": {},
   "outputs": [],
   "source": [
    "import numpy as np\n",
    "import cv2\n",
    "\n",
    "\n"
   ]
  },
  {
   "cell_type": "markdown",
   "metadata": {},
   "source": [
    "#### Existe uma maneira mais fácil e rápida de fazer um retângulo? ▭\n",
    "- Sim e o Open CV ajuda bastante na aceleração destes processos de processamento de imagens com métodos tradicionais.\n",
    "- Conheces o método ``cv2.rectangle`` ?\n",
    "\n",
    "    - ````cv2.rectangle(image, start_point, end_point, color, thickness) ````\n",
    "\n",
    "Podes saber mais [aqui](https://www.geeksforgeeks.org/python-opencv-cv2-rectangle-method/) 📚"
   ]
  },
  {
   "cell_type": "code",
   "execution_count": null,
   "metadata": {},
   "outputs": [],
   "source": [
    "import numpy as np\n",
    "import cv2\n",
    "\n"
   ]
  },
  {
   "cell_type": "code",
   "execution_count": null,
   "metadata": {},
   "outputs": [],
   "source": [
    "import numpy as np\n",
    "import cv2\n",
    "\n"
   ]
  },
  {
   "cell_type": "markdown",
   "metadata": {},
   "source": [
    "#### Como desenhar uma circunferência? ⬤\n",
    "- Conheces o método ``cv2.circle`` ?\n",
    "\n",
    "    - ````cv2.circle(image, center_coordinates, radius, color, thickness) ````\n",
    "\n",
    "Podes saber mais [aqui](https://www.geeksforgeeks.org/python-opencv-cv2-circle-method/?ref=header_search) 📚"
   ]
  },
  {
   "cell_type": "code",
   "execution_count": null,
   "metadata": {},
   "outputs": [],
   "source": [
    "import numpy as np\n",
    "import cv2\n",
    "\n"
   ]
  },
  {
   "cell_type": "markdown",
   "metadata": {},
   "source": [
    "#### Como desenhar uma linha ➖\n",
    "- Conheces o método ``cv2.line`` ? \n",
    "    \n",
    "    - ````cv2.line(image, start_point, end_point, color, thickness)````\n",
    "\n",
    "Podes saber mais [aqui](https://www.geeksforgeeks.org/python-opencv-cv2-line-method/?ref=header_search) 📚"
   ]
  },
  {
   "cell_type": "code",
   "execution_count": null,
   "metadata": {},
   "outputs": [],
   "source": [
    "import numpy as np\n",
    "import cv2\n",
    "\n"
   ]
  },
  {
   "cell_type": "markdown",
   "metadata": {},
   "source": [
    "#### Como escrever texto numa imagem? 📝\n",
    "\n",
    "- Conheces o método ``cv2.putText`` ?\n",
    "    \n",
    "    - ````cv2.putText(image, 'Hello World', coordinates, font, fontScale, color, thickness, cv2.LINE_AA)````\n",
    "\n",
    "    Podes saber mais [aqui](https://www.geeksforgeeks.org/python-opencv-cv2-puttext-method/?ref=header_search) 📚"
   ]
  },
  {
   "cell_type": "code",
   "execution_count": null,
   "metadata": {},
   "outputs": [],
   "source": [
    "import numpy as np\n",
    "import cv2\n",
    "\n"
   ]
  }
 ],
 "metadata": {
  "kernelspec": {
   "display_name": "cv_python",
   "language": "python",
   "name": "python3"
  },
  "language_info": {
   "codemirror_mode": {
    "name": "ipython",
    "version": 3
   },
   "file_extension": ".py",
   "mimetype": "text/x-python",
   "name": "python",
   "nbconvert_exporter": "python",
   "pygments_lexer": "ipython3",
   "version": "3.12.2"
  }
 },
 "nbformat": 4,
 "nbformat_minor": 2
}
