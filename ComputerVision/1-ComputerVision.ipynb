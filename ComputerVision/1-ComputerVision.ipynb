{
 "cells": [
  {
   "cell_type": "markdown",
   "metadata": {},
   "source": [
    "# **Visão Artificial** - Sistemas de Visão e Perceção\n",
    "\n",
    "![Intro Image](Images/ai_cv_intro.png)\n",
    "\n",
    "### **Computer Vision** é um domínio da **inteligência artificial** que permite a computadores **interpretar e tomar decisões** com base em **dados visuais**, mesmo em **ambientes dinâmicos**.  🚀\n",
    "\n",
    "### Esta capacidade permite revolucionar as indústrias e melhorar a interação humana com a tecnologia. 🤖👨‍💻\n",
    "\n",
    "---"
   ]
  },
  {
   "cell_type": "markdown",
   "metadata": {},
   "source": [
    "## **1 - Introdução a Processamento de Imagem**"
   ]
  },
  {
   "cell_type": "markdown",
   "metadata": {},
   "source": [
    "---"
   ]
  },
  {
   "cell_type": "markdown",
   "metadata": {},
   "source": [
    "### **Introdução ao NumPy** ⚙️🧮\n",
    "\n",
    "- NumPy é uma biblioteca Python utilizada para computação numérica. \n",
    "    - Fornece suporte para matrizes e arrays multi-dimensionais de grandes dimensões \n",
    "    - Coleção de funções matemáticas para operar nestes arrays de forma eficiente. \n",
    "\n",
    "É a base para muitas outras bibliotecas no ambiente de análise de dados Python."
   ]
  },
  {
   "cell_type": "markdown",
   "metadata": {},
   "source": [
    "#### **Arrays**"
   ]
  },
  {
   "cell_type": "code",
   "execution_count": 2,
   "metadata": {},
   "outputs": [
    {
     "name": "stdout",
     "output_type": "stream",
     "text": [
      "[1 2 3 4 5]\n",
      "1\n",
      "2\n"
     ]
    }
   ],
   "source": [
    "import numpy as np\n",
    "\n",
    "simple_array = np.array([1, 2, 3, 4, 5])\n",
    "print(simple_array)\n",
    "\n",
    "# Aceder a elementos no meu array\n",
    "print(simple_array[0])\n",
    "print(simple_array[1])"
   ]
  },
  {
   "cell_type": "markdown",
   "metadata": {},
   "source": [
    "#### **Operações**"
   ]
  },
  {
   "cell_type": "code",
   "execution_count": 5,
   "metadata": {},
   "outputs": [
    {
     "name": "stdout",
     "output_type": "stream",
     "text": [
      "[11 12 13 14 15]\n",
      "[ 2  4  6  8 10]\n"
     ]
    }
   ],
   "source": [
    "import numpy as np\n",
    "\n",
    "# Adicionar o valor 10 a cada elemento do meu array\n",
    "result = simple_array + 10\n",
    "\n",
    "print(result)\n",
    "\n",
    "# Multiplicar por 2 cada elemento de cada \n",
    "result = simple_array * 2\n",
    "\n",
    "print(result)"
   ]
  },
  {
   "cell_type": "markdown",
   "metadata": {},
   "source": [
    "#### **Operação de Matrizes**"
   ]
  },
  {
   "cell_type": "code",
   "execution_count": 7,
   "metadata": {},
   "outputs": [
    {
     "name": "stdout",
     "output_type": "stream",
     "text": [
      "Matrix\n",
      " [[1 2 3]\n",
      " [4 5 6]] \n",
      "\n",
      "Resultado: \n",
      " [14 32]\n"
     ]
    }
   ],
   "source": [
    "# Criar um array de 2D (Matriz) \n",
    "matrix = np.array([[1,2,3], [4, 5, 6]])\n",
    "print(f\"Matrix\\n {matrix} \\n\")\n",
    "\n",
    "simple_array = np.array([1,2,3])\n",
    "\n",
    "result = np.matmul(matrix, simple_array)\n",
    "\n",
    "print(f\"Resultado: \\n {result}\")"
   ]
  },
  {
   "cell_type": "markdown",
   "metadata": {},
   "source": [
    "#### **Criação de Arrays**"
   ]
  },
  {
   "cell_type": "code",
   "execution_count": 15,
   "metadata": {},
   "outputs": [
    {
     "name": "stdout",
     "output_type": "stream",
     "text": [
      "[[0. 0. 0.]\n",
      " [0. 0. 0.]\n",
      " [0. 0. 0.]]\n",
      "[[1. 1.]\n",
      " [1. 1.]]\n",
      "[[7 7 7 7]\n",
      " [7 7 7 7]\n",
      " [7 7 7 7]\n",
      " [7 7 7 7]]\n",
      "[0 1 2 3 4 5 6 7 8 9]\n",
      "[ 0.          1.11111111  2.22222222  3.33333333  4.44444444  5.55555556\n",
      "  6.66666667  7.77777778  8.88888889 10.        ]\n",
      "[[0.26904613 0.63168597 0.98780392]\n",
      " [0.3419525  0.93185875 0.1005274 ]\n",
      " [0.74175535 0.9802313  0.14525012]]\n",
      "[[ 0.69168698  1.03165696 -0.89223237]\n",
      " [ 1.33717963 -0.61693375 -0.51333399]\n",
      " [ 1.45449934  1.12355595  0.326046  ]]\n"
     ]
    }
   ],
   "source": [
    "import numpy as np\n",
    "\n",
    "# Create a 3x3 matrix of zeros\n",
    "zeros_matrix = np.zeros((3,3)) \n",
    "print(zeros_matrix)\n",
    "\n",
    "# Create a 2x2 matrix of ones\n",
    "ones_matrix = np.ones((2,2))\n",
    "print(ones_matrix)\n",
    "\n",
    "# Create a 4x4 matrix filled with 7\n",
    "seven_matrix = np.full([4,4], 7, dtype = int)\n",
    "print(seven_matrix)\n",
    "\n",
    "# Create an array of evenly spaced values from 0 to 9\n",
    "range_array = np.arange(10)\n",
    "print(range_array)\n",
    "\n",
    "# Create an array of 10 values evenly spaced between 0 and 1\n",
    "linspace_array = np.linspace(0, 10, 10)\n",
    "print(linspace_array)\n",
    "\n",
    "# Create a 3x3 matrix of random values between 0 and 1\n",
    "random_matrix = np.random.rand(3,3)\n",
    "print(random_matrix)\n",
    "\n",
    "# Create a 3x3 matrix of random values from a normal distribution (mean=0, std=1)\n",
    "random_norm_matrix = np.random.randn(3,3)\n",
    "print(random_norm_matrix)"
   ]
  },
  {
   "cell_type": "markdown",
   "metadata": {},
   "source": [
    "### **Introdução ao Open CV** 🔍📷👁️\n",
    "\n",
    "A OpenCV (Open Source Computer Vision Library) é uma poderosa biblioteca de funções de programação destinada principalmente à visão artificial para processamento em tempo real. É desenvolvida em C++ e optimizada para desempenho, mas também fornece ligações para Python, tornando-a acessível a um público mais vasto.\n",
    "\n",
    "![OpenCV Image](Images/opencv_logo.png)\n",
    "\n",
    "- Instalação do Open CV ```pip install opencv-python```"
   ]
  },
  {
   "cell_type": "code",
   "execution_count": 4,
   "metadata": {},
   "outputs": [],
   "source": [
    "import cv2\n",
    "import numpy as np\n",
    "\n",
    "# Load an image from file\n",
    "image = cv2.imread(r'Images\\opencv_logo.png')\n",
    "\n",
    "cv2.imshow('Image', image)\n",
    "cv2.waitKey(0)  # Wait indefinitely for a key press\n",
    "cv2.destroyAllWindows()  # Close all OpenCV windows"
   ]
  },
  {
   "cell_type": "markdown",
   "metadata": {},
   "source": [
    "---"
   ]
  },
  {
   "cell_type": "markdown",
   "metadata": {},
   "source": [
    "#### Como criar uma imagem preta com 320x320 ?"
   ]
  },
  {
   "cell_type": "code",
   "execution_count": 5,
   "metadata": {},
   "outputs": [],
   "source": [
    "black_img = np.zeros((320,320, 1), dtype='uint8')\n",
    "\n",
    "\n",
    "cv2.imshow('Black Image', black_img)\n",
    "cv2.waitKey(0)  \n",
    "cv2.destroyAllWindows()  "
   ]
  },
  {
   "cell_type": "markdown",
   "metadata": {},
   "source": [
    "#### Como desenhar um ponto branco (1 pixel) na imagem preta?"
   ]
  },
  {
   "cell_type": "code",
   "execution_count": 6,
   "metadata": {},
   "outputs": [],
   "source": [
    "\n",
    "black_img[159,150:170] = 255\n",
    "\n",
    "\n",
    "cv2.imshow('Black Image', black_img)\n",
    "cv2.waitKey(0)  # Wait indefinitely for a key press\n",
    "cv2.destroyAllWindows()  "
   ]
  },
  {
   "cell_type": "markdown",
   "metadata": {},
   "source": [
    "#### Como desenhar um retângulo branco na imagem preta?"
   ]
  },
  {
   "cell_type": "code",
   "execution_count": 43,
   "metadata": {},
   "outputs": [],
   "source": [
    "import numpy as np\n",
    "import cv2\n",
    "\n",
    "img_height, img_width = 320, 320\n",
    "black_img = np.zeros((img_height, img_width))\n",
    "\n",
    "# Definir as dimnesões do rectângulo\n",
    "rectangle_width, rectangle_height = 150, 100\n",
    "\n",
    "x_center = img_width//2\n",
    "y_center = img_height//2\n",
    "\n",
    "black_img[y_center-(rectangle_height//2), x_center-(rectangle_width//2) : x_center + (rectangle_width//2)] = 1\n",
    "black_img[y_center-(rectangle_height//2): y_center+(rectangle_height//2), x_center+(rectangle_width//2)] = 1\n",
    "black_img[y_center+(rectangle_height//2), x_center-(rectangle_width//2) : x_center+(rectangle_width//2)] = 1\n",
    "black_img[y_center-(rectangle_height//2): y_center+(rectangle_height//2), x_center-(rectangle_width//2)] = 1\n",
    "\n",
    "cv2.imshow('Black Image', black_img)\n",
    "cv2.waitKey(0)  \n",
    "cv2.destroyAllWindows()  \n"
   ]
  },
  {
   "cell_type": "markdown",
   "metadata": {},
   "source": [
    "#### Existe uma maneira mais fácil e rápida de fazer um retângulo? ▭\n",
    "- Sim e o Open CV ajuda bastante na aceleração destes processos de processamento de imagens com métodos tradicionais.\n",
    "- Conheces o método ``cv2.rectangle`` ?\n",
    "\n",
    "    - ````cv2.rectangle(image, start_point, end_point, color, thickness) ````\n",
    "\n",
    "Podes saber mais [aqui](https://www.geeksforgeeks.org/python-opencv-cv2-rectangle-method/) 📚"
   ]
  },
  {
   "cell_type": "code",
   "execution_count": 46,
   "metadata": {},
   "outputs": [],
   "source": [
    "import numpy as np\n",
    "import cv2\n",
    "\n",
    "img_height, img_width = 320, 320\n",
    "rectangle_width, rectangle_height = 150, 100\n",
    "x_center = img_width//2\n",
    "y_center = img_height//2\n",
    "\n",
    "black_img = np.zeros((img_height, img_width))\n",
    "\n",
    "cv2.rectangle(black_img, (y_center-(rectangle_height//2), x_center-(rectangle_width//2)), (y_center+(rectangle_height//2), x_center+(rectangle_width//2)), 1, thickness=1)\n",
    "\n",
    "\n",
    "cv2.imshow('Black Image', black_img)\n",
    "cv2.waitKey(0)  \n",
    "cv2.destroyAllWindows()  "
   ]
  },
  {
   "cell_type": "code",
   "execution_count": 51,
   "metadata": {},
   "outputs": [],
   "source": [
    "import numpy as np\n",
    "import cv2\n",
    "\n",
    "img_height, img_width = 320, 320\n",
    "\n",
    "\n",
    "\n",
    "rectangle_width, rectangle_height = 150, 100\n",
    "\n",
    "black_img = np.zeros((img_height, img_width))\n",
    "\n",
    "x_center = black_img.shape[1]//2\n",
    "y_center = black_img.shape[0]//2\n",
    "\n",
    "cv2.rectangle(black_img, (y_center-(rectangle_height//2), x_center-(rectangle_width//2)), (y_center+(rectangle_height//2), x_center+(rectangle_width//2)), 1, thickness=4)\n",
    "\n",
    "\n",
    "cv2.imshow('Black Image', black_img)\n",
    "cv2.waitKey(0)  \n",
    "cv2.destroyAllWindows()  "
   ]
  },
  {
   "cell_type": "markdown",
   "metadata": {},
   "source": [
    "#### Como desenhar uma circunferência? ⬤\n",
    "- Conheces o método ``cv2.circle`` ?\n",
    "\n",
    "    - ````cv2.circle(image, center_coordinates, radius, color, thickness) ````\n",
    "\n",
    "Podes saber mais [aqui](https://www.geeksforgeeks.org/python-opencv-cv2-circle-method/?ref=header_search) 📚"
   ]
  },
  {
   "cell_type": "code",
   "execution_count": 2,
   "metadata": {},
   "outputs": [],
   "source": [
    "import numpy as np\n",
    "import cv2\n",
    "\n",
    "img_height, img_width = 320, 320\n",
    "black_image = np.zeros((img_height, img_width))\n",
    "\n",
    "x_center = black_image.shape[1]//2\n",
    "y_center = black_image.shape[0]//2\n",
    "\n",
    "cv2.circle(black_image, (x_center,y_center), 50, 1, thickness=1)\n",
    "\n",
    "cv2.imshow('Black Image', black_image)\n",
    "cv2.waitKey(0)  \n",
    "cv2.destroyAllWindows() "
   ]
  },
  {
   "cell_type": "markdown",
   "metadata": {},
   "source": [
    "#### Como desenhar uma linha ➖\n",
    "- Conheces o método ``cv2.line`` ? \n",
    "    \n",
    "    - ````cv2.line(image, start_point, end_point, color, thickness)````\n",
    "\n",
    "Podes saber mais [aqui](https://www.geeksforgeeks.org/python-opencv-cv2-line-method/?ref=header_search) 📚"
   ]
  },
  {
   "cell_type": "code",
   "execution_count": 6,
   "metadata": {},
   "outputs": [],
   "source": [
    "import numpy as np\n",
    "import cv2\n",
    "\n",
    "img_height, img_width = 320, 320\n",
    "black_image = np.zeros((img_height, img_width))\n",
    "\n",
    "x_center = black_image.shape[1]//2\n",
    "y_center = black_image.shape[0]//2\n",
    "line_length = 20\n",
    "\n",
    "cv2.line(black_image, (x_center-line_length//2,y_center), (x_center+line_length//2, y_center) , 1, 1)\n",
    "\n",
    "cv2.imshow('Black Image', black_image)\n",
    "cv2.waitKey(0)  \n",
    "cv2.destroyAllWindows() "
   ]
  },
  {
   "cell_type": "markdown",
   "metadata": {},
   "source": [
    "#### Como escrever texto numa imagem? 📝\n",
    "\n",
    "- Conheces o método ``cv2.putText`` ?\n",
    "    \n",
    "    - ````cv2.putText(image, 'Hello World', coordinates, font, fontScale, color, thickness, cv2.LINE_AA)````\n",
    "\n",
    "    Podes saber mais [aqui](https://www.geeksforgeeks.org/python-opencv-cv2-puttext-method/?ref=header_search) 📚"
   ]
  },
  {
   "cell_type": "code",
   "execution_count": 10,
   "metadata": {},
   "outputs": [],
   "source": [
    "import numpy as np\n",
    "import cv2\n",
    "\n",
    "img_height, img_width = 320, 320\n",
    "black_image = np.zeros((img_height, img_width))\n",
    "\n",
    "x_center = black_image.shape[1]//2\n",
    "y_center = black_image.shape[0]//2\n",
    "\n",
    "cv2.putText(black_image, 'Hello World', (x_center-100, y_center), cv2.FONT_HERSHEY_TRIPLEX, 1.0, 1, 2)\n",
    "\n",
    "cv2.imshow('Black Image', black_image)\n",
    "cv2.waitKey(0)  \n",
    "cv2.destroyAllWindows() "
   ]
  }
 ],
 "metadata": {
  "kernelspec": {
   "display_name": "cv_python",
   "language": "python",
   "name": "python3"
  },
  "language_info": {
   "codemirror_mode": {
    "name": "ipython",
    "version": 3
   },
   "file_extension": ".py",
   "mimetype": "text/x-python",
   "name": "python",
   "nbconvert_exporter": "python",
   "pygments_lexer": "ipython3",
   "version": "3.12.2"
  }
 },
 "nbformat": 4,
 "nbformat_minor": 2
}
