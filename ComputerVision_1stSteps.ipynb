{
  "nbformat": 4,
  "nbformat_minor": 0,
  "metadata": {
    "colab": {
      "provenance": []
    },
    "kernelspec": {
      "name": "python3",
      "display_name": "Python 3"
    },
    "language_info": {
      "name": "python"
    }
  },
  "cells": [
    {
      "cell_type": "markdown",
      "source": [
        "# Computer Vision\n",
        "### Starting from the scratch"
      ],
      "metadata": {
        "id": "GcMuc2QbmweN"
      }
    },
    {
      "cell_type": "markdown",
      "source": [
        "## Introduction to Python"
      ],
      "metadata": {
        "id": "uaIHhivN-Vec"
      }
    },
    {
      "cell_type": "markdown",
      "source": [
        "#### 1. Hello Word"
      ],
      "metadata": {
        "id": "8NxfwrOJ_vUe"
      }
    },
    {
      "cell_type": "code",
      "source": [
        "# Hello Word\n",
        "\n",
        "firstVar='Hello World'\n",
        "\n",
        "print(firstVar)"
      ],
      "metadata": {
        "colab": {
          "base_uri": "https://localhost:8080/"
        },
        "id": "jXG2eaOT_hCo",
        "outputId": "78de9c16-9239-40e5-d52a-aff4a1b1facc"
      },
      "execution_count": null,
      "outputs": [
        {
          "output_type": "stream",
          "name": "stdout",
          "text": [
            "Hello World\n"
          ]
        }
      ]
    },
    {
      "cell_type": "markdown",
      "source": [
        "#### 2. Tuples in python"
      ],
      "metadata": {
        "id": "OvhHBORQ_6B9"
      }
    },
    {
      "cell_type": "markdown",
      "source": [
        "Creating a tuple (Must be used when: an immutable list. we can use this as a dict key)"
      ],
      "metadata": {
        "id": "NYIzFPk7AH71"
      }
    },
    {
      "cell_type": "code",
      "source": [
        "person = ['Miguel',30, 'masculino']\n",
        "\n",
        "print('Olá eu sou o',person[0],', tenho', person[1], 'anos e sou do sexo', person[2] )"
      ],
      "metadata": {
        "colab": {
          "base_uri": "https://localhost:8080/"
        },
        "id": "ih4VuaY0_6RW",
        "outputId": "e9f5686d-81cd-4be6-e3a9-3d8e5c701bd0"
      },
      "execution_count": null,
      "outputs": [
        {
          "output_type": "stream",
          "name": "stdout",
          "text": [
            "Olá eu sou o Miguel , tenho 30 anos e sou do sexo masculino\n"
          ]
        }
      ]
    },
    {
      "cell_type": "markdown",
      "source": [
        "Unpacking the tuple"
      ],
      "metadata": {
        "id": "RIdfMsz4BUes"
      }
    },
    {
      "cell_type": "code",
      "source": [
        "person = ['Miguel',30, 'masculino']\n",
        "\n",
        "name, age, gender = person\n",
        "\n",
        "print('Olá eu sou o',name,', tenho', age, 'anos e sou do sexo', gender)"
      ],
      "metadata": {
        "colab": {
          "base_uri": "https://localhost:8080/"
        },
        "id": "X_AAj3StBM4G",
        "outputId": "97c9f05a-d51d-461b-db95-76d0a45328af"
      },
      "execution_count": null,
      "outputs": [
        {
          "output_type": "stream",
          "name": "stdout",
          "text": [
            "Olá eu sou o Miguel , tenho 30 anos e sou do sexo masculino\n"
          ]
        }
      ]
    },
    {
      "cell_type": "markdown",
      "source": [
        "Unpacking other things of the tuple"
      ],
      "metadata": {
        "id": "fq1bJ9x_Byle"
      }
    },
    {
      "cell_type": "code",
      "source": [
        "person = ['Miguel',30, 'masculino', 'voleibol', 'francesinha', 'viajar', 'cozinheiro']\n",
        "\n",
        "name, age, gender, *curiosities = person\n",
        "\n",
        "print('Olá eu sou o',name,', tenho', age, 'anos e sou do sexo', gender)\n",
        "print('Curiosidades:', curiosities)"
      ],
      "metadata": {
        "colab": {
          "base_uri": "https://localhost:8080/"
        },
        "id": "l_msQhClB3MP",
        "outputId": "70f3dd31-7a36-4004-deb7-ca02643bcaf6"
      },
      "execution_count": null,
      "outputs": [
        {
          "output_type": "stream",
          "name": "stdout",
          "text": [
            "Olá eu sou o Miguel , tenho 30 anos e sou do sexo masculino\n",
            "Curiosidades: ['voleibol', 'francesinha', 'viajar', 'cozinheiro']\n"
          ]
        }
      ]
    },
    {
      "cell_type": "markdown",
      "source": [
        "#### 3. Lists and Dict/Set"
      ],
      "metadata": {
        "id": "RoT8G2XjCZ6e"
      }
    },
    {
      "cell_type": "markdown",
      "source": [
        "Creating a list with a cycle 'for' (List must be used for: ordered collection of elements)"
      ],
      "metadata": {
        "id": "hnTr3AG1CiLm"
      }
    },
    {
      "cell_type": "code",
      "source": [
        "list_1 = [i for i in range(1,4)]              # [1,2,3]\n",
        "\n",
        "list_2 = [i*2 for i in range(1,4)]            # [2,4,6]\n",
        "\n",
        "list_3 = [i**2 for i in range(1,4)]           # [1,4,9]\n",
        "\n",
        "list_4 = [i for i in range(1,4) if i%2==1]    # [1,3]\n",
        "\n",
        "print(list_1)\n",
        "print(list_2)\n",
        "print(list_3)\n",
        "print(list_4)"
      ],
      "metadata": {
        "colab": {
          "base_uri": "https://localhost:8080/"
        },
        "id": "T_7wmBY8Cmie",
        "outputId": "70169ea6-80a7-423b-fdb8-69f34281bca2"
      },
      "execution_count": null,
      "outputs": [
        {
          "output_type": "stream",
          "name": "stdout",
          "text": [
            "[1, 2, 3]\n",
            "[2, 4, 6]\n",
            "[1, 4, 9]\n",
            "[1, 3]\n"
          ]
        }
      ]
    },
    {
      "cell_type": "markdown",
      "source": [
        "Creating a set (Set must be used for: unordered collection containing only unique elements)"
      ],
      "metadata": {
        "id": "OxVZVqCXFmt_"
      }
    },
    {
      "cell_type": "code",
      "source": [
        "set1 = {i for i in range(1,4)}          # {1,2,3}\n",
        "\n",
        "print(set1)"
      ],
      "metadata": {
        "colab": {
          "base_uri": "https://localhost:8080/"
        },
        "id": "DSlZyouhFrh9",
        "outputId": "091d5026-1c82-4855-bb37-71c28e305632"
      },
      "execution_count": null,
      "outputs": [
        {
          "output_type": "stream",
          "name": "stdout",
          "text": [
            "{1, 2, 3}\n"
          ]
        }
      ]
    },
    {
      "cell_type": "markdown",
      "source": [
        "Creating a Dictionary - Dictionary is  a collection of key-value pairs. It is an unordered data structure that is used to store and retrieve values based on keys. (Must be used when: accessing a value using a key)"
      ],
      "metadata": {
        "id": "ohAHn5q0FvvW"
      }
    },
    {
      "cell_type": "code",
      "source": [
        "my_dictionary = {'apple': 3, 'banana': 6, 'orange': 2}\n",
        "\n",
        "print(my_dictionary['apple'])"
      ],
      "metadata": {
        "colab": {
          "base_uri": "https://localhost:8080/"
        },
        "id": "1RhbWHXXFx3x",
        "outputId": "6805b5ed-f7ef-4e27-9e9c-4a65d61152bc"
      },
      "execution_count": null,
      "outputs": [
        {
          "output_type": "stream",
          "name": "stdout",
          "text": [
            "3\n"
          ]
        }
      ]
    },
    {
      "cell_type": "markdown",
      "source": [
        "Adding data to my dictionary"
      ],
      "metadata": {
        "id": "lZmhGsc6HowE"
      }
    },
    {
      "cell_type": "code",
      "source": [
        "my_dictionary = {'apple': 3, 'banana': 6, 'orange': 2}\n",
        "\n",
        "my_dictionary['pear'] = 4\n",
        "my_dictionary['banana'] = 10\n",
        "\n",
        "print(my_dictionary)"
      ],
      "metadata": {
        "colab": {
          "base_uri": "https://localhost:8080/"
        },
        "id": "9mpSiZQVHh7r",
        "outputId": "8772388c-49de-42d7-fc44-e0214ce7fbc5"
      },
      "execution_count": null,
      "outputs": [
        {
          "output_type": "stream",
          "name": "stdout",
          "text": [
            "{'apple': 3, 'banana': 10, 'orange': 2, 'pear': 4}\n"
          ]
        }
      ]
    },
    {
      "cell_type": "markdown",
      "source": [
        "### Creating a black image 320x320"
      ],
      "metadata": {
        "id": "ZysF3ZCJ9DC9"
      }
    },
    {
      "cell_type": "code",
      "execution_count": null,
      "metadata": {
        "id": "GNK4g-AGmkmw",
        "colab": {
          "base_uri": "https://localhost:8080/",
          "height": 337
        },
        "outputId": "930b4064-2e60-43d1-a57e-6d2de746607f"
      },
      "outputs": [
        {
          "output_type": "display_data",
          "data": {
            "text/plain": [
              "<PIL.Image.Image image mode=RGB size=320x320 at 0x7FD176CC91B0>"
            ],
            "image/png": "[encoded data removed]"
          },
          "metadata": {}
        }
      ],
      "source": [
        "import cv2\n",
        "import numpy as np\n",
        "\n",
        "from google.colab.patches import cv2_imshow\n",
        "\n",
        "# 1. Create a black image\n",
        "black_img = np.zeros((320,320,3), dtype='uint8')\n",
        "cv2_imshow(black_img)"
      ]
    },
    {
      "cell_type": "markdown",
      "source": [
        "### Draw a white point (1 pixel) in the Black Image"
      ],
      "metadata": {
        "id": "HWnf0zpo9z0u"
      }
    },
    {
      "cell_type": "code",
      "source": [
        "import cv2\n",
        "import numpy as np\n",
        "\n",
        "from google.colab.patches import cv2_imshow\n",
        "\n",
        "# 1. Create a black image\n",
        "black_img = np.zeros((320,320,3), dtype='uint8')\n",
        "\n",
        "black_img[159:160 , 160:161] = 255\n",
        "cv2_imshow(black_img)"
      ],
      "metadata": {
        "colab": {
          "base_uri": "https://localhost:8080/",
          "height": 337
        },
        "id": "fei3NNiC9jnm",
        "outputId": "7ce9e14e-298d-4714-fae0-b892ceb56939"
      },
      "execution_count": null,
      "outputs": [
        {
          "output_type": "display_data",
          "data": {
            "text/plain": [
              "<PIL.Image.Image image mode=RGB size=320x320 at 0x7FD1505BB730>"
            ],
            "image/png": "[encoded data removed]"
          },
          "metadata": {}
        }
      ]
    },
    {
      "cell_type": "markdown",
      "source": [
        "### Draw a square in the Black Image\n",
        "\n"
      ],
      "metadata": {
        "id": "FGhPr-EU9iuH"
      }
    },
    {
      "cell_type": "code",
      "source": [
        "import cv2\n",
        "import numpy as np\n",
        "\n",
        "from google.colab.patches import cv2_imshow\n",
        "\n",
        "# 1. Create a black image\n",
        "black_img = np.zeros((320,320,3), dtype='uint8')\n",
        "\n",
        "cv2.rectangle(black_img, (0,0), (160,160), (255,255,255), thickness=1)\n",
        "cv2_imshow(black_img)"
      ],
      "metadata": {
        "colab": {
          "base_uri": "https://localhost:8080/",
          "height": 337
        },
        "id": "OorG7Qhu-G49",
        "outputId": "42a94c8c-f718-4836-9c2c-22bc7811fbcd"
      },
      "execution_count": null,
      "outputs": [
        {
          "output_type": "display_data",
          "data": {
            "text/plain": [
              "<PIL.Image.Image image mode=RGB size=320x320 at 0x7FD146DB5390>"
            ],
            "image/png": "[encoded data removed]"
          },
          "metadata": {}
        }
      ]
    },
    {
      "cell_type": "markdown",
      "source": [
        "### If we want to fill the square, we need to make a \"FILLED\""
      ],
      "metadata": {
        "id": "-u-J0dW0-e81"
      }
    },
    {
      "cell_type": "code",
      "source": [
        "import cv2\n",
        "import numpy as np\n",
        "\n",
        "from google.colab.patches import cv2_imshow\n",
        "\n",
        "# 1. Create a black image\n",
        "black_img = np.zeros((320,320,3), dtype='uint8')\n",
        "\n",
        "cv2.rectangle(black_img, (0,0), (160,160), (255,255,255), thickness=cv.FILLED)\n",
        "cv2_imshow(black_img)"
      ],
      "metadata": {
        "colab": {
          "base_uri": "https://localhost:8080/",
          "height": 337
        },
        "id": "5xmLUsR3-g5w",
        "outputId": "2dd5d639-6d99-4f6c-8527-3d37b130f047"
      },
      "execution_count": null,
      "outputs": [
        {
          "output_type": "display_data",
          "data": {
            "text/plain": [
              "<PIL.Image.Image image mode=RGB size=320x320 at 0x7FD146DB57E0>"
            ],
            "image/png": "[encoded data removed]"
          },
          "metadata": {}
        }
      ]
    },
    {
      "cell_type": "markdown",
      "source": [
        "### Draw a square or retangle on the image center"
      ],
      "metadata": {
        "id": "yMo2FGJR-scL"
      }
    },
    {
      "cell_type": "code",
      "source": [
        "import cv2\n",
        "import numpy as np\n",
        "\n",
        "from google.colab.patches import cv2_imshow\n",
        "\n",
        "# 1. Create a black image\n",
        "black_img = np.zeros((320,320,3), dtype='uint8')\n",
        "\n",
        "# This code draws a white rectangle with a border thickness of 1 pixel on the black_img image.\n",
        "# The rectangle's top-left corner is at position (155, 155), and its bottom-right corner is at position (165, 165).\n",
        "# The resulting image will have the rectangle drawn on it.\n",
        " \n",
        "cv2.rectangle(black_img, (155,155), (165,165), (255,255,255), thickness=1)\n",
        "cv2_imshow(black_img)"
      ],
      "metadata": {
        "colab": {
          "base_uri": "https://localhost:8080/",
          "height": 337
        },
        "id": "05qcUGGE-twV",
        "outputId": "eb68abb8-ba28-4321-8d4c-caf8eae40b11"
      },
      "execution_count": null,
      "outputs": [
        {
          "output_type": "display_data",
          "data": {
            "text/plain": [
              "<PIL.Image.Image image mode=RGB size=320x320 at 0x7FD177AC7E50>"
            ],
            "image/png": "[encoded data removed]"
          },
          "metadata": {}
        }
      ]
    },
    {
      "cell_type": "markdown",
      "source": [
        "or a method to get the center of the image"
      ],
      "metadata": {
        "id": "UiBnHvIZIxSD"
      }
    },
    {
      "cell_type": "code",
      "source": [
        "import cv2\n",
        "import numpy as np\n",
        "\n",
        "from google.colab.patches import cv2_imshow\n",
        "\n",
        "# 1. Create a black image\n",
        "black_img = np.zeros((320,320,3), dtype='uint8')\n",
        "\n",
        "# The `shape` attribute of an image returns a tuple containing the dimensions of the image.\n",
        "# The first element of the tuple is the height of the image in pixels, and the second element is the width.\n",
        "# If the image has color channels, the third element of the tuple will be the number of channels (e.g. 3 for RGB).\n",
        "\n",
        "cv2.rectangle(black_img, (((black_img.shape[1]//2) - 5), ((black_img.shape[0]//2) - 5)), (((black_img.shape[1]//2)+5), ((black_img.shape[0]//2) +5)), (255,255,255), thickness=1)\n",
        "cv2_imshow(black_img)"
      ],
      "metadata": {
        "colab": {
          "base_uri": "https://localhost:8080/",
          "height": 337
        },
        "id": "Pu4__hH9I05P",
        "outputId": "c2cb44b4-7846-4e3f-8730-5587bd12d7dc"
      },
      "execution_count": null,
      "outputs": [
        {
          "output_type": "display_data",
          "data": {
            "text/plain": [
              "<PIL.Image.Image image mode=RGB size=320x320 at 0x7FD13DCDA590>"
            ],
            "image/png": "[encoded data removed]"
          },
          "metadata": {}
        }
      ]
    },
    {
      "cell_type": "markdown",
      "source": [
        "Simplify the rectangle draw:"
      ],
      "metadata": {
        "id": "0XZmPANmKNy2"
      }
    },
    {
      "cell_type": "code",
      "source": [
        "import cv2\n",
        "import numpy as np\n",
        "\n",
        "from google.colab.patches import cv2_imshow\n",
        "\n",
        "# 1. Create a black image\n",
        "black_img = np.zeros((320,320,3), dtype='uint8')\n",
        "\n",
        "# create variables to simplify your code\n",
        "x_image_center = black_img.shape[1]//2\n",
        "y_image_center = black_img.shape[0]//2\n",
        "\n",
        "x_image = black_img.shape[1]\n",
        "y_image = black_img.shape[0]\n",
        "\n",
        "cv2.rectangle(black_img, (x_image_center-5,y_image_center-5), (x_image_center+5,y_image_center+5), (255,255,255), thickness=1)\n",
        "cv2_imshow( black_img)"
      ],
      "metadata": {
        "colab": {
          "base_uri": "https://localhost:8080/",
          "height": 337
        },
        "id": "O4ST6193KBtb",
        "outputId": "26607921-c3d2-45cb-ec26-e014524800fb"
      },
      "execution_count": null,
      "outputs": [
        {
          "output_type": "display_data",
          "data": {
            "text/plain": [
              "<PIL.Image.Image image mode=RGB size=320x320 at 0x7FD13DE980A0>"
            ],
            "image/png": "[encoded data removed]"
          },
          "metadata": {}
        }
      ]
    },
    {
      "cell_type": "markdown",
      "source": [
        "### Draw a Circle"
      ],
      "metadata": {
        "id": "oBD86D2RKf_x"
      }
    },
    {
      "cell_type": "code",
      "source": [
        "import cv2\n",
        "import numpy as np\n",
        "\n",
        "from google.colab.patches import cv2_imshow\n",
        "\n",
        "# 1. Create a black image\n",
        "black_img = np.zeros((320,320,3), dtype='uint8')\n",
        "\n",
        "# create variables to simplify your code\n",
        "x_image_center = black_img.shape[1]//2\n",
        "y_image_center = black_img.shape[0]//2\n",
        "\n",
        "x_image = black_img.shape[1]\n",
        "y_image = black_img.shape[0]\n",
        "\n",
        "cv2.circle(black_img, (x_image_center,y_image_center), 100, (255,255,255), thickness=1)\n",
        "cv2_imshow(black_img)"
      ],
      "metadata": {
        "colab": {
          "base_uri": "https://localhost:8080/",
          "height": 337
        },
        "id": "rXf1msD-Kjci",
        "outputId": "1a9bfa76-8822-4b9d-f3e8-3f64d2cad9d3"
      },
      "execution_count": null,
      "outputs": [
        {
          "output_type": "display_data",
          "data": {
            "text/plain": [
              "<PIL.Image.Image image mode=RGB size=320x320 at 0x7FD13DD21300>"
            ],
            "image/png": "[encoded data removed]"
          },
          "metadata": {}
        }
      ]
    },
    {
      "cell_type": "markdown",
      "source": [
        "### Draw a Line"
      ],
      "metadata": {
        "id": "QxcDxlZ3LQ0g"
      }
    },
    {
      "cell_type": "code",
      "source": [
        "import cv2\n",
        "import numpy as np\n",
        "\n",
        "from google.colab.patches import cv2_imshow\n",
        "\n",
        "# 1. Create a black image\n",
        "black_img = np.zeros((320,320,3), dtype='uint8')\n",
        "\n",
        "# create variables to simplify your code\n",
        "x_image_center = black_img.shape[1]//2\n",
        "y_image_center = black_img.shape[0]//2\n",
        "\n",
        "x_image = black_img.shape[1]\n",
        "y_image = black_img.shape[0]\n",
        "\n",
        "cv2.line(black_img, (x_image_center,y_image_center-10), (x_image_center,y_image_center+10), (255,255,255), thickness=1)\n",
        "cv2_imshow( black_img)"
      ],
      "metadata": {
        "colab": {
          "base_uri": "https://localhost:8080/",
          "height": 337
        },
        "id": "i4L0uWVZLUMZ",
        "outputId": "31ef04dd-6394-4500-85d9-3b1224d5bb22"
      },
      "execution_count": null,
      "outputs": [
        {
          "output_type": "display_data",
          "data": {
            "text/plain": [
              "<PIL.Image.Image image mode=RGB size=320x320 at 0x7FD13DD22410>"
            ],
            "image/png": "[encoded data removed]"
          },
          "metadata": {}
        }
      ]
    },
    {
      "cell_type": "markdown",
      "source": [
        "### Write text"
      ],
      "metadata": {
        "id": "PZJNLHuTLgCT"
      }
    },
    {
      "cell_type": "code",
      "source": [
        "import cv2\n",
        "import numpy as np\n",
        "\n",
        "from google.colab.patches import cv2_imshow\n",
        "\n",
        "# 1. Create a black image\n",
        "black_img = np.zeros((320,320,3), dtype='uint8')\n",
        "\n",
        "# create variables to simplify your code\n",
        "x_image_center = black_img.shape[1]//2\n",
        "y_image_center = black_img.shape[0]//2\n",
        "\n",
        "x_image = black_img.shape[1]\n",
        "y_image = black_img.shape[0]\n",
        "\n",
        "cv2.putText(black_img, 'Hello World', (x_image_center-90,y_image_center), cv.FONT_HERSHEY_TRIPLEX, 1.0, (255,255,255), thickness=2)\n",
        "cv2_imshow(black_img)"
      ],
      "metadata": {
        "id": "2eg9lj2sLhog",
        "outputId": "a62bce15-e73c-44f5-984c-591cfc3623be",
        "colab": {
          "base_uri": "https://localhost:8080/",
          "height": 337
        }
      },
      "execution_count": null,
      "outputs": [
        {
          "output_type": "display_data",
          "data": {
            "text/plain": [
              "<PIL.Image.Image image mode=RGB size=320x320 at 0x7FD146DEB610>"
            ],
            "image/png": "[encoded data removed]"
          },
          "metadata": {}
        }
      ]
    }
  ]
}